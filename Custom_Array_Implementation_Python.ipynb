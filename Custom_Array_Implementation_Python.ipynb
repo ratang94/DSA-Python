{
  "nbformat": 4,
  "nbformat_minor": 0,
  "metadata": {
    "colab": {
      "provenance": []
    },
    "kernelspec": {
      "name": "python3",
      "display_name": "Python 3"
    },
    "language_info": {
      "name": "python"
    }
  },
  "cells": [
    {
      "cell_type": "code",
      "execution_count": null,
      "metadata": {
        "id": "22aaEZnjsO_d"
      },
      "outputs": [],
      "source": []
    },
    {
      "cell_type": "code",
      "source": [
        "class MyArray:\n",
        "    def __init__(self):\n",
        "        self.capacity = 1\n",
        "        self.size = 0\n",
        "        self.data = [None] * self.capacity\n",
        "\n",
        "    def _resize(self, new_capacity):\n",
        "        new_data = [None] * new_capacity\n",
        "        for i in range(self.size):\n",
        "            new_data[i] = self.data[i]\n",
        "        self.data = new_data\n",
        "        self.capacity = new_capacity\n",
        "\n",
        "    def append(self, item):\n",
        "        if self.size == self.capacity:\n",
        "            self._resize(self.capacity * 2)\n",
        "        self.data[self.size] = item\n",
        "        self.size += 1\n",
        "\n",
        "    def get(self, index):\n",
        "        if index < 0 or index >= self.size:\n",
        "            raise IndexError(\"Index out of bounds\")\n",
        "        return self.data[index]\n",
        "\n",
        "    def insert(self, index, item):\n",
        "        if self.size == self.capacity:\n",
        "            self._resize(self.capacity * 2)\n",
        "        for i in range(self.size, index, -1):\n",
        "            self.data[i] = self.data[i-1]\n",
        "        self.data[index] = item\n",
        "        self.size += 1\n",
        "\n",
        "    def delete(self, index):\n",
        "        if index < 0 or index >= self.size:\n",
        "            raise IndexError(\"Index out of bounds\")\n",
        "        for i in range(index, self.size - 1):\n",
        "            self.data[i] = self.data[i+1]\n",
        "        self.data[self.size - 1] = None\n",
        "        self.size -= 1\n",
        "\n",
        "    def pop(self):\n",
        "        if self.size == 0:\n",
        "            raise IndexError(\"Pop from empty array\")\n",
        "        item = self.data[self.size - 1]\n",
        "        self.data[self.size - 1] = None\n",
        "        self.size -= 1\n",
        "        return item\n",
        "\n",
        "    def search(self, item):\n",
        "        for i in range(self.size):\n",
        "            if self.data[i] == item:\n",
        "                return i\n",
        "        return -1"
      ],
      "metadata": {
        "id": "uJ7TTiaotcHh"
      },
      "execution_count": null,
      "outputs": []
    },
    {
      "cell_type": "code",
      "source": [
        "arr = MyArray()\n",
        "\n",
        "arr.append(10)\n",
        "arr.append(20)\n",
        "arr.append(30)\n",
        "print(arr.data, \"size:\", arr.size, \"capacity:\", arr.capacity)"
      ],
      "metadata": {
        "colab": {
          "base_uri": "https://localhost:8080/"
        },
        "id": "2mb6ujPDvSWy",
        "outputId": "8e5533d8-ad01-4a97-bd89-1a886a6aa0c1"
      },
      "execution_count": null,
      "outputs": [
        {
          "output_type": "stream",
          "name": "stdout",
          "text": [
            "[10, 20, 30, None] size: 3 capacity: 4\n"
          ]
        }
      ]
    },
    {
      "cell_type": "code",
      "source": [
        "print(arr.get(0))  # 10\n",
        "print(arr.get(1))  # 20\n",
        "print(arr.get(2))  # 30"
      ],
      "metadata": {
        "colab": {
          "base_uri": "https://localhost:8080/"
        },
        "id": "OG3LQXxOvfpw",
        "outputId": "6f112f9c-1a16-4e82-faf9-9effbff53294"
      },
      "execution_count": null,
      "outputs": [
        {
          "output_type": "stream",
          "name": "stdout",
          "text": [
            "10\n",
            "20\n",
            "30\n"
          ]
        }
      ]
    },
    {
      "cell_type": "code",
      "source": [
        "arr.insert(1, 99)\n",
        "print(arr.data, \"size:\", arr.size)"
      ],
      "metadata": {
        "colab": {
          "base_uri": "https://localhost:8080/"
        },
        "id": "a_B0pHxGvpQ7",
        "outputId": "18163ce2-96c3-43ae-f810-e861180f83cd"
      },
      "execution_count": null,
      "outputs": [
        {
          "output_type": "stream",
          "name": "stdout",
          "text": [
            "[10, 99, 20, 30] size: 4\n"
          ]
        }
      ]
    },
    {
      "cell_type": "code",
      "source": [
        "arr.delete(2)\n",
        "print(arr.data, \"size:\", arr.size)"
      ],
      "metadata": {
        "colab": {
          "base_uri": "https://localhost:8080/"
        },
        "id": "AS0jp0L2vxYR",
        "outputId": "ccf0c412-0b61-428d-8735-7e2e015a3c57"
      },
      "execution_count": null,
      "outputs": [
        {
          "output_type": "stream",
          "name": "stdout",
          "text": [
            "[10, 99, 30, None] size: 3\n"
          ]
        }
      ]
    },
    {
      "cell_type": "code",
      "source": [
        "print(arr.pop())   # should return last element\n",
        "print(arr.data, \"size:\", arr.size)\n"
      ],
      "metadata": {
        "colab": {
          "base_uri": "https://localhost:8080/"
        },
        "id": "a1v6VgJZwAXV",
        "outputId": "29db74e6-81f6-4f60-eaf4-3c5c1bf116b4"
      },
      "execution_count": null,
      "outputs": [
        {
          "output_type": "stream",
          "name": "stdout",
          "text": [
            "30\n",
            "[10, 99, None, None] size: 2\n"
          ]
        }
      ]
    },
    {
      "cell_type": "code",
      "source": [
        "print(arr.search(99))  # should return index of 99\n",
        "print(arr.search(50))  # -1 (not found)"
      ],
      "metadata": {
        "colab": {
          "base_uri": "https://localhost:8080/"
        },
        "id": "b1ZHTqg6wC7S",
        "outputId": "16d476ec-2a53-450f-b63d-48aa202a1e6e"
      },
      "execution_count": null,
      "outputs": [
        {
          "output_type": "stream",
          "name": "stdout",
          "text": [
            "1\n",
            "-1\n"
          ]
        }
      ]
    },
    {
      "cell_type": "code",
      "source": [],
      "metadata": {
        "id": "9u_Pv1XUwEq4"
      },
      "execution_count": null,
      "outputs": []
    }
  ]
}